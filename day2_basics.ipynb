{
  "nbformat": 4,
  "nbformat_minor": 0,
  "metadata": {
    "colab": {
      "name": "day2-basics.ipynb",
      "provenance": [],
      "collapsed_sections": [
        "6X8Y7_K96U5m",
        "B6ZCjnLv7dLy",
        "ATCZ7d_fAS13"
      ],
      "authorship_tag": "ABX9TyN8cYdJmdXnXPCp7FEgZhHs",
      "include_colab_link": true
    },
    "kernelspec": {
      "name": "python3",
      "display_name": "Python 3"
    },
    "language_info": {
      "name": "python"
    }
  },
  "cells": [
    {
      "cell_type": "markdown",
      "metadata": {
        "id": "view-in-github",
        "colab_type": "text"
      },
      "source": [
        "<a href=\"https://colab.research.google.com/github/al-josvan/W22---Data-Analytics-Microcredential/blob/main/day2_basics.ipynb\" target=\"_parent\"><img src=\"https://colab.research.google.com/assets/colab-badge.svg\" alt=\"Open In Colab\"/></a>"
      ]
    },
    {
      "cell_type": "markdown",
      "source": [
        "#String Indexing and Slicing"
      ],
      "metadata": {
        "id": "6X8Y7_K96U5m"
      }
    },
    {
      "cell_type": "code",
      "source": [
        "s = 'Hello World'"
      ],
      "metadata": {
        "id": "kPOufW9861CQ"
      },
      "execution_count": null,
      "outputs": []
    },
    {
      "cell_type": "code",
      "source": [
        "s\n",
        "print(s)"
      ],
      "metadata": {
        "colab": {
          "base_uri": "https://localhost:8080/"
        },
        "id": "eHUVu20o7W0i",
        "outputId": "a034ae7f-5186-4b40-8d38-e348c9bf41e9"
      },
      "execution_count": null,
      "outputs": [
        {
          "output_type": "stream",
          "name": "stdout",
          "text": [
            "Hello World\n"
          ]
        }
      ]
    },
    {
      "cell_type": "code",
      "source": [
        "s[0]"
      ],
      "metadata": {
        "colab": {
          "base_uri": "https://localhost:8080/",
          "height": 35
        },
        "id": "VvwBcsln7XJo",
        "outputId": "fd753aaa-e211-4672-bc49-e90ceb962c8f"
      },
      "execution_count": null,
      "outputs": [
        {
          "output_type": "execute_result",
          "data": {
            "application/vnd.google.colaboratory.intrinsic+json": {
              "type": "string"
            },
            "text/plain": [
              "'H'"
            ]
          },
          "metadata": {},
          "execution_count": 4
        }
      ]
    },
    {
      "cell_type": "markdown",
      "source": [
        "#Slicing\n",
        "We can use a : to perform slicing which grabs everythibng up to a desginated point"
      ],
      "metadata": {
        "id": "B6ZCjnLv7dLy"
      }
    },
    {
      "cell_type": "code",
      "source": [
        "s[1:]"
      ],
      "metadata": {
        "colab": {
          "base_uri": "https://localhost:8080/",
          "height": 35
        },
        "id": "9uTZJ5vh7oWg",
        "outputId": "dbb804b8-f2ee-4cc4-8430-dea2a7176f3f"
      },
      "execution_count": null,
      "outputs": [
        {
          "output_type": "execute_result",
          "data": {
            "application/vnd.google.colaboratory.intrinsic+json": {
              "type": "string"
            },
            "text/plain": [
              "'ello World'"
            ]
          },
          "metadata": {},
          "execution_count": 6
        }
      ]
    },
    {
      "cell_type": "code",
      "source": [
        "s"
      ],
      "metadata": {
        "colab": {
          "base_uri": "https://localhost:8080/",
          "height": 35
        },
        "id": "lu0EKvuT7yt_",
        "outputId": "e65facf8-4e36-4167-e744-3bd977ca76e1"
      },
      "execution_count": null,
      "outputs": [
        {
          "output_type": "execute_result",
          "data": {
            "application/vnd.google.colaboratory.intrinsic+json": {
              "type": "string"
            },
            "text/plain": [
              "'Hello World'"
            ]
          },
          "metadata": {},
          "execution_count": 7
        }
      ]
    },
    {
      "cell_type": "code",
      "source": [
        "s[:3]"
      ],
      "metadata": {
        "colab": {
          "base_uri": "https://localhost:8080/",
          "height": 35
        },
        "id": "Ph-rLWWN705u",
        "outputId": "4d8b892d-5579-4c07-d379-9e570c50c8d7"
      },
      "execution_count": null,
      "outputs": [
        {
          "output_type": "execute_result",
          "data": {
            "application/vnd.google.colaboratory.intrinsic+json": {
              "type": "string"
            },
            "text/plain": [
              "'Hel'"
            ]
          },
          "metadata": {},
          "execution_count": 9
        }
      ]
    },
    {
      "cell_type": "markdown",
      "source": [
        "Note the above slicing. Here we're telling Python to grab everything from 0 up to 3. It doesn't include the 3rd index. You'll notice this a lot in Python, where statements and are usually in the context of \"up to, but not including\"."
      ],
      "metadata": {
        "id": "F8HjZStf6hh-"
      }
    },
    {
      "cell_type": "code",
      "source": [
        "#Everything\n",
        "s[:]"
      ],
      "metadata": {
        "colab": {
          "base_uri": "https://localhost:8080/",
          "height": 35
        },
        "id": "2J7CH7Cu9sGD",
        "outputId": "fa620005-1f6e-476c-ab20-f93ecf9af63b"
      },
      "execution_count": null,
      "outputs": [
        {
          "output_type": "execute_result",
          "data": {
            "application/vnd.google.colaboratory.intrinsic+json": {
              "type": "string"
            },
            "text/plain": [
              "'Hello World'"
            ]
          },
          "metadata": {},
          "execution_count": 10
        }
      ]
    },
    {
      "cell_type": "code",
      "source": [
        "#Negative indexing to go backwards\n",
        "s[-1]"
      ],
      "metadata": {
        "colab": {
          "base_uri": "https://localhost:8080/",
          "height": 35
        },
        "id": "jEYLOzQl-GGP",
        "outputId": "baaba7a3-5d02-424d-d901-c996f043675f"
      },
      "execution_count": null,
      "outputs": [
        {
          "output_type": "execute_result",
          "data": {
            "application/vnd.google.colaboratory.intrinsic+json": {
              "type": "string"
            },
            "text/plain": [
              "'d'"
            ]
          },
          "metadata": {},
          "execution_count": 11
        }
      ]
    },
    {
      "cell_type": "code",
      "source": [
        "#Grab everything but thr last letter\n",
        "s[:-1]"
      ],
      "metadata": {
        "colab": {
          "base_uri": "https://localhost:8080/",
          "height": 35
        },
        "id": "BSEyNQC5-HV4",
        "outputId": "f6d34b2a-079e-46ea-c2bd-e463b164c588"
      },
      "execution_count": null,
      "outputs": [
        {
          "output_type": "execute_result",
          "data": {
            "application/vnd.google.colaboratory.intrinsic+json": {
              "type": "string"
            },
            "text/plain": [
              "'Hello Worl'"
            ]
          },
          "metadata": {},
          "execution_count": 12
        }
      ]
    },
    {
      "cell_type": "code",
      "source": [
        "s"
      ],
      "metadata": {
        "colab": {
          "base_uri": "https://localhost:8080/",
          "height": 35
        },
        "id": "Z-i7F1-i-JqH",
        "outputId": "275d8402-814e-427f-ac2a-5d5287c5a57b"
      },
      "execution_count": null,
      "outputs": [
        {
          "output_type": "execute_result",
          "data": {
            "application/vnd.google.colaboratory.intrinsic+json": {
              "type": "string"
            },
            "text/plain": [
              "'Hello World'"
            ]
          },
          "metadata": {},
          "execution_count": 13
        }
      ]
    },
    {
      "cell_type": "code",
      "source": [
        "#We can use this to reverse a string\n",
        "s[::-1]"
      ],
      "metadata": {
        "colab": {
          "base_uri": "https://localhost:8080/",
          "height": 35
        },
        "id": "Qb4WGHF0-LNm",
        "outputId": "aae78af1-2070-49c3-c4ce-174fbb2d4a86"
      },
      "execution_count": null,
      "outputs": [
        {
          "output_type": "execute_result",
          "data": {
            "application/vnd.google.colaboratory.intrinsic+json": {
              "type": "string"
            },
            "text/plain": [
              "'dlroW olleH'"
            ]
          },
          "metadata": {},
          "execution_count": 14
        }
      ]
    },
    {
      "cell_type": "markdown",
      "source": [
        "#Strings Concatenation"
      ],
      "metadata": {
        "id": "El-xj9gu-NRX"
      }
    },
    {
      "cell_type": "code",
      "source": [
        "greeting = 'Hello'\n",
        "name = 'Mark'\n",
        "print(greeting + name)\n",
        "print(greeting + ' ' + name)"
      ],
      "metadata": {
        "colab": {
          "base_uri": "https://localhost:8080/"
        },
        "id": "JocaMkKv-39R",
        "outputId": "2c428bb0-a067-4728-af21-2feeb3388ac8"
      },
      "execution_count": null,
      "outputs": [
        {
          "output_type": "stream",
          "name": "stdout",
          "text": [
            "HelloMark\n",
            "Hello Mark\n"
          ]
        }
      ]
    },
    {
      "cell_type": "code",
      "source": [
        "print(greeting + str(6))"
      ],
      "metadata": {
        "colab": {
          "base_uri": "https://localhost:8080/"
        },
        "id": "TcjAZev3_K5n",
        "outputId": "9cf9fe6d-18fd-423a-c3b3-4856281c6846"
      },
      "execution_count": null,
      "outputs": [
        {
          "output_type": "stream",
          "name": "stdout",
          "text": [
            "Hello6\n"
          ]
        }
      ]
    },
    {
      "cell_type": "code",
      "source": [
        "print(greeting + '6')"
      ],
      "metadata": {
        "colab": {
          "base_uri": "https://localhost:8080/"
        },
        "id": "Qt2_UXk1_Sre",
        "outputId": "052df2ed-4ade-463a-b7c7-56f821530048"
      },
      "execution_count": null,
      "outputs": [
        {
          "output_type": "stream",
          "name": "stdout",
          "text": [
            "Hello6\n"
          ]
        }
      ]
    },
    {
      "cell_type": "code",
      "source": [
        "greeting = 'Hello there '\n",
        "name = input('What is your name: ')\n",
        "print(greeting + name)"
      ],
      "metadata": {
        "colab": {
          "base_uri": "https://localhost:8080/"
        },
        "id": "3Mj9AVXs_ZzO",
        "outputId": "94a39c79-1d2d-467b-e9fc-e15d2b09405d"
      },
      "execution_count": null,
      "outputs": [
        {
          "output_type": "stream",
          "name": "stdout",
          "text": [
            "What is your name: General Kenobi\n",
            "Hello there General Kenobi\n"
          ]
        }
      ]
    },
    {
      "cell_type": "code",
      "source": [
        "color = 'green'\n",
        "len(color)"
      ],
      "metadata": {
        "colab": {
          "base_uri": "https://localhost:8080/"
        },
        "id": "n1gukyzs_1Yg",
        "outputId": "98b2539e-be2c-412c-b56a-69a9c81bdb3d"
      },
      "execution_count": null,
      "outputs": [
        {
          "output_type": "execute_result",
          "data": {
            "text/plain": [
              "5"
            ]
          },
          "metadata": {},
          "execution_count": 23
        }
      ]
    },
    {
      "cell_type": "code",
      "source": [
        "print(color[0:5])"
      ],
      "metadata": {
        "colab": {
          "base_uri": "https://localhost:8080/"
        },
        "id": "fm-Gg_NzALdG",
        "outputId": "2628fd2d-1cf4-40b3-cf8a-7b7073576449"
      },
      "execution_count": null,
      "outputs": [
        {
          "output_type": "stream",
          "name": "stdout",
          "text": [
            "green\n"
          ]
        }
      ]
    },
    {
      "cell_type": "markdown",
      "source": [
        "#String Formatting"
      ],
      "metadata": {
        "id": "ATCZ7d_fAS13"
      }
    },
    {
      "cell_type": "code",
      "source": [
        "age = str(23)\n",
        "print('I am ' + age + ' years old')"
      ],
      "metadata": {
        "colab": {
          "base_uri": "https://localhost:8080/"
        },
        "id": "6AC5xbuBA4Pz",
        "outputId": "8e5854c5-6559-4584-9a03-067d3aba6b68"
      },
      "execution_count": null,
      "outputs": [
        {
          "output_type": "stream",
          "name": "stdout",
          "text": [
            "I am 23 years old\n"
          ]
        }
      ]
    },
    {
      "cell_type": "code",
      "source": [
        "print('The colors are {} {} {} '.format('red', 'green', 'blue'))\n",
        "print('The colors are {1} {1} {1} '.format('red', 'green', 'blue'))\n",
        "print(\"The colors are {r} {g} {b} \".format(r=\"Red\", g=\"Green\", b=\"Blue\"))"
      ],
      "metadata": {
        "colab": {
          "base_uri": "https://localhost:8080/"
        },
        "id": "8XSbWPfpA-Uj",
        "outputId": "6a8e80be-d5c0-4fbb-ce60-812fb5375b9e"
      },
      "execution_count": null,
      "outputs": [
        {
          "output_type": "stream",
          "name": "stdout",
          "text": [
            "The colors are red green blue \n",
            "The colors are green green green \n",
            "The colors are Red Green Blue \n"
          ]
        }
      ]
    },
    {
      "cell_type": "code",
      "source": [
        "print(f\"The colors are {'red'} {'green'} {'blue'}\")"
      ],
      "metadata": {
        "colab": {
          "base_uri": "https://localhost:8080/"
        },
        "id": "MI0HkQ5nBOYf",
        "outputId": "92ab5c38-7168-420d-f55d-b0e7433c71f5"
      },
      "execution_count": null,
      "outputs": [
        {
          "output_type": "stream",
          "name": "stdout",
          "text": [
            "The colors are red green blue\n"
          ]
        }
      ]
    },
    {
      "cell_type": "code",
      "source": [
        "color_1 = 'blue'\n",
        "color_2 = 'green'\n",
        "color_3 = 'red'\n",
        "color_4 = 'yellow'"
      ],
      "metadata": {
        "id": "BuMmr6le-3JJ"
      },
      "execution_count": null,
      "outputs": []
    },
    {
      "cell_type": "code",
      "source": [
        "print(f\"The colors are {color_1} {color_2} {color_3} {color_4}\")"
      ],
      "metadata": {
        "colab": {
          "base_uri": "https://localhost:8080/"
        },
        "id": "PIetl8GT-3Dk",
        "outputId": "670ef3d5-7dfd-40b2-9de4-dc4bbbb73540"
      },
      "execution_count": null,
      "outputs": [
        {
          "output_type": "stream",
          "name": "stdout",
          "text": [
            "The colors are blue green red yellow\n"
          ]
        }
      ]
    },
    {
      "cell_type": "markdown",
      "source": [
        "#Collection Data Types\n",
        "List, Dictionaries, Sets and Tuples"
      ],
      "metadata": {
        "id": "Mmx8o3qZN0pU"
      }
    },
    {
      "cell_type": "code",
      "source": [
        "#Creating a string of movies and printing\n",
        "movies = ['star wars', 'star trek', 'lord of the rings', 'avengers', 'the hobbit']\n",
        "print(movies)"
      ],
      "metadata": {
        "colab": {
          "base_uri": "https://localhost:8080/"
        },
        "id": "2xInJTCOOAvB",
        "outputId": "16346354-1436-4644-eaa2-0bd851d3396b"
      },
      "execution_count": null,
      "outputs": [
        {
          "output_type": "stream",
          "name": "stdout",
          "text": [
            "['star wars', 'star trek', 'lord of the rings', 'avengers', 'the hobbit']\n"
          ]
        }
      ]
    },
    {
      "cell_type": "code",
      "source": [
        "#Printing a specific element from the list in upper case\n",
        "movies[2]\n",
        "print(movies[2].title())\n",
        "print(movies[2].upper())\n",
        "\n",
        "#Printing a specific element from the list beginning at the end\n",
        "print(movies[-3])"
      ],
      "metadata": {
        "colab": {
          "base_uri": "https://localhost:8080/"
        },
        "id": "bEgPQXZxPl4I",
        "outputId": "066bff9a-705b-4a26-f802-d37a4e642a6c"
      },
      "execution_count": null,
      "outputs": [
        {
          "output_type": "stream",
          "name": "stdout",
          "text": [
            "Lord Of The Rings\n",
            "LORD OF THE RINGS\n",
            "lord of the rings\n"
          ]
        }
      ]
    },
    {
      "cell_type": "code",
      "source": [
        "#Creating a variable assigned with a string and concatenating a particular movie in all uppercase\n",
        "message = 'My favorite movie is ' + movies[1].upper() + '!!!' \n",
        "print(message)"
      ],
      "metadata": {
        "colab": {
          "base_uri": "https://localhost:8080/"
        },
        "id": "wV2Cb6WqRHDo",
        "outputId": "b65d9fb9-43c4-4c38-8a9d-6f66e6c65f34"
      },
      "execution_count": null,
      "outputs": [
        {
          "output_type": "stream",
          "name": "stdout",
          "text": [
            "My favorite movie is STAR TREK!!!\n"
          ]
        }
      ]
    },
    {
      "cell_type": "code",
      "source": [
        "#Modying the [1] element in the string movies\n",
        "movies[1] = 'the matrix'\n",
        "print(movies)"
      ],
      "metadata": {
        "colab": {
          "base_uri": "https://localhost:8080/"
        },
        "id": "xkvs6knlUbYS",
        "outputId": "d73ddce4-2ce4-4ef0-da87-df26ba289790"
      },
      "execution_count": null,
      "outputs": [
        {
          "output_type": "stream",
          "name": "stdout",
          "text": [
            "['star wars', 'the matrix', 'lord of the rings', 'avengers', 'the hobbit']\n"
          ]
        }
      ]
    },
    {
      "cell_type": "code",
      "source": [
        "#Appending an item to the string movies\n",
        "movies.append('star trek')\n",
        "print(movies)"
      ],
      "metadata": {
        "colab": {
          "base_uri": "https://localhost:8080/"
        },
        "id": "StaxoDKqUqIS",
        "outputId": "e60ca26f-9f0b-4824-c4a7-3a405e545f4f"
      },
      "execution_count": null,
      "outputs": [
        {
          "output_type": "stream",
          "name": "stdout",
          "text": [
            "['star wars', 'the matrix', 'lord of the rings', 'avengers', 'the hobbit', 'star trek']\n"
          ]
        }
      ]
    },
    {
      "cell_type": "code",
      "source": [
        "#Inserting an element twice into the string at a specific  location [0] and [1]\n",
        "movies.insert(0, 'interstellar')\n",
        "movies.insert(1, 'interstellar')\n",
        "print(movies)"
      ],
      "metadata": {
        "colab": {
          "base_uri": "https://localhost:8080/"
        },
        "id": "E_QvEO71Ux2a",
        "outputId": "02c589e8-981e-4fe3-c82c-7e854702f3bb"
      },
      "execution_count": null,
      "outputs": [
        {
          "output_type": "stream",
          "name": "stdout",
          "text": [
            "['interstellar', 'interstellar', 'star wars', 'the matrix', 'lord of the rings', 'avengers', 'the hobbit', 'star trek']\n"
          ]
        }
      ]
    },
    {
      "cell_type": "code",
      "source": [
        "#Removing a duplicate copy of an item added to list\n",
        "movies.remove('interstellar')\n",
        "print(movies)"
      ],
      "metadata": {
        "colab": {
          "base_uri": "https://localhost:8080/"
        },
        "id": "Q4mOG9_0VfiX",
        "outputId": "ea2bb8ca-845d-4c2a-cbc3-4ce47328e16f"
      },
      "execution_count": null,
      "outputs": [
        {
          "output_type": "stream",
          "name": "stdout",
          "text": [
            "['interstellar', 'star wars', 'the matrix', 'lord of the rings', 'avengers', 'the hobbit', 'star trek']\n"
          ]
        }
      ]
    },
    {
      "cell_type": "code",
      "source": [
        "#Deleting item [2] from the list movies\n",
        "print(movies)\n",
        "del movies[2]\n",
        "print(movies)"
      ],
      "metadata": {
        "colab": {
          "base_uri": "https://localhost:8080/"
        },
        "id": "2tbbwhYIVloR",
        "outputId": "08e57b56-2b32-4b52-8132-c107ea537988"
      },
      "execution_count": null,
      "outputs": [
        {
          "output_type": "stream",
          "name": "stdout",
          "text": [
            "['interstellar', 'star wars', 'the matrix', 'lord of the rings', 'avengers', 'the hobbit', 'star trek']\n",
            "['interstellar', 'star wars', 'lord of the rings', 'avengers', 'the hobbit', 'star trek']\n"
          ]
        }
      ]
    },
    {
      "cell_type": "code",
      "source": [
        "#Creating a variable and assinging it to a string of foods\n",
        "fav_foods = ['pasta', 'seafood', 'bread']\n",
        "print(fav_foods)"
      ],
      "metadata": {
        "colab": {
          "base_uri": "https://localhost:8080/"
        },
        "id": "OzeWQH4DVvcK",
        "outputId": "aa6def54-a959-463b-907f-b839892c920f"
      },
      "execution_count": null,
      "outputs": [
        {
          "output_type": "stream",
          "name": "stdout",
          "text": [
            "['pasta', 'seafood', 'bread']\n"
          ]
        }
      ]
    },
    {
      "cell_type": "code",
      "source": [
        "#Appending the string with two new elements\n",
        "fav_foods.append('cheese')\n",
        "fav_foods.append('wine')\n",
        "print(fav_foods)"
      ],
      "metadata": {
        "colab": {
          "base_uri": "https://localhost:8080/"
        },
        "id": "30YH4KSuWk6w",
        "outputId": "f88e47d7-38b6-422f-fa5d-afe3d38089c5"
      },
      "execution_count": null,
      "outputs": [
        {
          "output_type": "stream",
          "name": "stdout",
          "text": [
            "['pasta', 'seafood', 'bread', 'cheese', 'wine']\n"
          ]
        }
      ]
    },
    {
      "cell_type": "code",
      "source": [
        "#Removing an element from the string\n",
        "fav_foods.remove('wine')\n",
        "print(fav_foods)"
      ],
      "metadata": {
        "colab": {
          "base_uri": "https://localhost:8080/"
        },
        "id": "-KEytWI-W6I6",
        "outputId": "b90bd784-1a1d-462b-d803-3f58cd2d49c0"
      },
      "execution_count": null,
      "outputs": [
        {
          "output_type": "stream",
          "name": "stdout",
          "text": [
            "['pasta', 'seafood', 'bread', 'cheese']\n"
          ]
        }
      ]
    },
    {
      "cell_type": "code",
      "source": [
        "#Inserting an element into the string at a particular location [4]\n",
        "fav_foods.insert(4, 'legumes')\n",
        "print(fav_foods)"
      ],
      "metadata": {
        "colab": {
          "base_uri": "https://localhost:8080/"
        },
        "id": "AP6Gg2yZXERC",
        "outputId": "ad575b55-e3c0-4d28-fd72-f0a26bf9017e"
      },
      "execution_count": null,
      "outputs": [
        {
          "output_type": "stream",
          "name": "stdout",
          "text": [
            "['pasta', 'seafood', 'bread', 'cheese', 'legumes']\n"
          ]
        }
      ]
    },
    {
      "cell_type": "code",
      "source": [
        ""
      ],
      "metadata": {
        "id": "LP26uUAXXsCS"
      },
      "execution_count": null,
      "outputs": []
    }
  ]
}