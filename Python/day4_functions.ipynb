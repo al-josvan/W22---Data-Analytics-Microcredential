{
  "nbformat": 4,
  "nbformat_minor": 0,
  "metadata": {
    "colab": {
      "name": "day4-functions.ipynb",
      "provenance": [],
      "collapsed_sections": [
        "z9_0jrQw0O4E"
      ],
      "authorship_tag": "ABX9TyMA4tksfKUWU1h2w7/U2oBH",
      "include_colab_link": true
    },
    "kernelspec": {
      "name": "python3",
      "display_name": "Python 3"
    },
    "language_info": {
      "name": "python"
    }
  },
  "cells": [
    {
      "cell_type": "markdown",
      "metadata": {
        "id": "view-in-github",
        "colab_type": "text"
      },
      "source": [
        "<a href=\"https://colab.research.google.com/github/al-josvan/W22---Data-Analytics-Microcredential/blob/main/Python/day4_functions.ipynb\" target=\"_parent\"><img src=\"https://colab.research.google.com/assets/colab-badge.svg\" alt=\"Open In Colab\"/></a>"
      ]
    },
    {
      "cell_type": "markdown",
      "source": [
        "# Functions\n",
        "\n",
        "So what is a function?\n",
        "\n",
        "Formally, a function is a useful device that groups together a set of statements so they can be run more than once. They can also let us specify parameters that can serve as inputs to the functions.\n",
        "\n",
        "On a more fundamental level, functions allow us to not have to repeatedly write the same code again and again. If you remember back to the lessons on strings and lists, remember that we used a function len() to get the length of a string. Since checking the length of a sequence is a common task you would want to write a function that can do this repeatedly at command.\n",
        "\n",
        "Functions will be one of most basic levels of reusing code in Python, and it will also allow us to start thinking of program design (we will dive much deeper into the ideas of design when we learn about Object Oriented Programming)."
      ],
      "metadata": {
        "id": "QIyJCu6jzXb-"
      }
    },
    {
      "cell_type": "markdown",
      "source": [
        "#def"
      ],
      "metadata": {
        "id": "z9_0jrQw0O4E"
      }
    },
    {
      "cell_type": "code",
      "source": [
        "def greeting():\n",
        "  \"\"\"This function displays a greeting\"\"\"\n",
        "  print('Hello there')\n",
        "\n",
        "greeting()  "
      ],
      "metadata": {
        "colab": {
          "base_uri": "https://localhost:8080/"
        },
        "id": "gCA72xP-yu9w",
        "outputId": "10a377aa-a9bc-4629-8df5-15b191b7e79b"
      },
      "execution_count": null,
      "outputs": [
        {
          "output_type": "stream",
          "name": "stdout",
          "text": [
            "Hello there\n"
          ]
        }
      ]
    },
    {
      "cell_type": "code",
      "source": [
        "def name_of_function(arg1, arg2):\n",
        "  '''Document string goes here'''\n",
        "  #Here goes the stuff that do things\n",
        "\n",
        "'''\n",
        "camelCase\n",
        "PascalCase\n",
        "_variable (private)\n",
        "'''"
      ],
      "metadata": {
        "id": "XHEVZmRhzm4v"
      },
      "execution_count": null,
      "outputs": []
    },
    {
      "cell_type": "code",
      "source": [
        "#Created greeting function to test with passing values\n",
        "fn = input(print('Please enter your full name.'))\n",
        "\n",
        "def greeting(fn):\n",
        "  '''This function will take the stored name and display a greeting'''\n",
        "  print(f'Hi there {fn}, you have x new messages.')\n",
        "\n",
        "greeting(fn)"
      ],
      "metadata": {
        "colab": {
          "base_uri": "https://localhost:8080/"
        },
        "id": "l6oBKVF04c9N",
        "outputId": "c4eea056-f84f-4e53-9695-0a4d3c10312d"
      },
      "execution_count": null,
      "outputs": [
        {
          "output_type": "stream",
          "name": "stdout",
          "text": [
            "Please enter your full name.\n",
            "Jose Galvan\n",
            "Hi there Jose Galvan, you have x new messages.\n"
          ]
        }
      ]
    },
    {
      "cell_type": "code",
      "source": [
        "def add_num(num1, num2):\n",
        "  return num1+num2\n",
        "\n",
        "add_num(4,5)"
      ],
      "metadata": {
        "colab": {
          "base_uri": "https://localhost:8080/"
        },
        "id": "A9Q1340h5G1Y",
        "outputId": "391887dc-c083-42dd-a4df-5283c960cabc"
      },
      "execution_count": null,
      "outputs": [
        {
          "output_type": "execute_result",
          "data": {
            "text/plain": [
              "9"
            ]
          },
          "metadata": {},
          "execution_count": 16
        }
      ]
    },
    {
      "cell_type": "code",
      "source": [
        "def sub_num(n1, n2, n3):\n",
        "  return (n1-n2-n3)\n",
        "\n",
        "sub_num(10,50,3)"
      ],
      "metadata": {
        "colab": {
          "base_uri": "https://localhost:8080/"
        },
        "id": "9GaVZse55mfv",
        "outputId": "6835c48b-f396-4399-94a5-441fab98b8e8"
      },
      "execution_count": null,
      "outputs": [
        {
          "output_type": "execute_result",
          "data": {
            "text/plain": [
              "-43"
            ]
          },
          "metadata": {},
          "execution_count": 19
        }
      ]
    },
    {
      "cell_type": "markdown",
      "source": [
        "#Calculator Exercise"
      ],
      "metadata": {
        "id": "IirJNzb7KJkC"
      }
    },
    {
      "cell_type": "code",
      "source": [
        "#Simple Calculator Group Project: Jose, Aala, Erik, Jaleeza, Yongguuang, Tamim\n",
        "\n",
        "\n",
        "#Print statement to identify operation user wants to do\n",
        "print('Select an operation you\\'d like to perform (1. add, 2. subtract, 3. multiply, 4. divide)\\n')\n",
        "\n",
        "#Addition function\n",
        "def addition (a,b):\n",
        "  return a + b\n",
        "\n",
        "#Subtraction function\n",
        "def subtraction (a,b):\n",
        "  return a - b\n",
        "\n",
        "#Multiplication function\n",
        "def multiplication (a,b):\n",
        "  return a*b\n",
        "\n",
        "#Division function with else statement if denominator is zero\n",
        "def division (a,b):\n",
        "  if b != 0:\n",
        "    return a/b\n",
        "\n",
        "#Print error if denominator is zero \n",
        "  else:  \n",
        "    print('Cannot divide by zero, go back to 5th grade. \\n')\n",
        "\n",
        "#While loop that continues working only if the user wants to\n",
        "while True:\n",
        "  operation = (input('\\nEnter 1, 2, 3 or 4 to signal operation of choice: '))\n",
        "\n",
        "#Prompt user for numbers only if they enter the proper input for designating operation\n",
        "  if operation in ('1', '2', '3', '4'):\n",
        "    number1 = float(input('What is the first number: '))\n",
        "    number2 = float(input('What is the second number: '))\n",
        "\n",
        "#Condition for addtition operation and calling the functi4on\n",
        "    if operation == '1':\n",
        "      print(number1, '+', number2, '=', addition(number1, number2))\n",
        "\n",
        "#Condition for substraction operation and calling the function\n",
        "    elif operation == '2':\n",
        "      print(number1, '-', number2, '=', subtraction(number1, number2))\n",
        "\n",
        "#Condition for multiplication operation and calling the function\n",
        "    elif operation == '3':\n",
        "      print(number1, '*', number2, '=', multiplication(number1, number2))\n",
        "\n",
        "#Condition for division operation and calling the function\n",
        "    elif operation == '4':\n",
        "      print(number1, '/', number2, '=', division(number1, number2))\n",
        "\n",
        "#Prompt user to continue with another operation or break while loop to end program\n",
        "    cont = input('\\nWould you like to perform another operation? (y/n). \\n')\n",
        "    if cont == 'n':\n",
        "      break\n",
        "#If input is invalid, generate error message\n",
        "  else:\n",
        "    print('Error, invalid input, get it right this time.')\n",
        " \n"
      ],
      "metadata": {
        "colab": {
          "base_uri": "https://localhost:8080/"
        },
        "id": "nSMiGuiJ9ifi",
        "outputId": "a2d4e1d7-aaa3-4124-c773-232e4377843c"
      },
      "execution_count": 56,
      "outputs": [
        {
          "name": "stdout",
          "output_type": "stream",
          "text": [
            "Select an operation you'd like to perform (1. add, 2. subtract, 3. multiply, 4. divide)\n",
            "\n",
            "\n",
            "Enter 1, 2, 3 or 4 to signal operation of choice: 4\n",
            "What is the first number: 5\n",
            "What is the second number: 0\n",
            "Cannot divide by zero, go back to 5th grade. \n",
            "\n",
            "5.0 / 0.0 = None\n",
            "\n",
            "Would you like to perform another operation? (y/n). \n",
            "n\n"
          ]
        }
      ]
    },
    {
      "cell_type": "code",
      "source": [
        "3"
      ],
      "metadata": {
        "id": "d1sVZR8VCzE9"
      },
      "execution_count": null,
      "outputs": []
    }
  ]
}