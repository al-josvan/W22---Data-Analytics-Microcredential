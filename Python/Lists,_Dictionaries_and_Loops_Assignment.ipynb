{
  "nbformat": 4,
  "nbformat_minor": 0,
  "metadata": {
    "colab": {
      "name": "Lists, Dictionaries and Loops Assignment.ipynb",
      "provenance": [],
      "authorship_tag": "ABX9TyNfv0LwoPz+zsbUeYvn4PvI",
      "include_colab_link": true
    },
    "kernelspec": {
      "name": "python3",
      "display_name": "Python 3"
    },
    "language_info": {
      "name": "python"
    }
  },
  "cells": [
    {
      "cell_type": "markdown",
      "metadata": {
        "id": "view-in-github",
        "colab_type": "text"
      },
      "source": [
        "<a href=\"https://colab.research.google.com/github/al-josvan/W22---Data-Analytics-Microcredential/blob/main/Python/Lists%2C_Dictionaries_and_Loops_Assignment.ipynb\" target=\"_parent\"><img src=\"https://colab.research.google.com/assets/colab-badge.svg\" alt=\"Open In Colab\"/></a>"
      ]
    },
    {
      "cell_type": "markdown",
      "source": [
        "#Lesson 4 - Looping"
      ],
      "metadata": {
        "id": "ifccA0BzZ-2e"
      }
    },
    {
      "cell_type": "code",
      "source": [
        "#Create a list that holds 5 data variables\n",
        "\n",
        "list = ['apples', 'oranges', 'strawberries', 'blueberries', 'grapes']"
      ],
      "metadata": {
        "id": "li9H_PT1aI9w"
      },
      "execution_count": 76,
      "outputs": []
    },
    {
      "cell_type": "code",
      "source": [
        "#Print out those variables by using a for loop\n",
        "\n",
        "for i in list:\n",
        "  print(i)"
      ],
      "metadata": {
        "colab": {
          "base_uri": "https://localhost:8080/"
        },
        "id": "Lv5UePRCaTky",
        "outputId": "f0e295ca-1b0d-4c85-c2f4-a825f98392e7"
      },
      "execution_count": 77,
      "outputs": [
        {
          "output_type": "stream",
          "name": "stdout",
          "text": [
            "apples\n",
            "oranges\n",
            "strawberries\n",
            "blueberries\n",
            "grapes\n"
          ]
        }
      ]
    },
    {
      "cell_type": "code",
      "source": [
        "#Modify you for loop to add  a message to your for loop\n",
        "\n",
        "for i in list:\n",
        "  print(f'This is a fruit you may like: {i}')"
      ],
      "metadata": {
        "colab": {
          "base_uri": "https://localhost:8080/"
        },
        "id": "YLhsy1f2aVUM",
        "outputId": "c2aa9107-3f61-466b-cdf6-e2664757c41a"
      },
      "execution_count": 78,
      "outputs": [
        {
          "output_type": "stream",
          "name": "stdout",
          "text": [
            "This is a fruit you may like: apples\n",
            "This is a fruit you may like: oranges\n",
            "This is a fruit you may like: strawberries\n",
            "This is a fruit you may like: blueberries\n",
            "This is a fruit you may like: grapes\n"
          ]
        }
      ]
    },
    {
      "cell_type": "code",
      "source": [
        "#Use a for loop to print even numbers from 1-20\n",
        "\n",
        "for x in range(0, 21):\n",
        "  if x % 2 == 0:\n",
        "    print(x)\n"
      ],
      "metadata": {
        "colab": {
          "base_uri": "https://localhost:8080/"
        },
        "id": "Fh_CWg5saoak",
        "outputId": "b25a5492-6aaa-49cf-f84a-30a586f13d80"
      },
      "execution_count": 79,
      "outputs": [
        {
          "output_type": "stream",
          "name": "stdout",
          "text": [
            "0\n",
            "2\n",
            "4\n",
            "6\n",
            "8\n",
            "10\n",
            "12\n",
            "14\n",
            "16\n",
            "18\n",
            "20\n"
          ]
        }
      ]
    },
    {
      "cell_type": "code",
      "source": [
        "#Sort your list in alphabetical order\n",
        "\n",
        "print(list)\n",
        "list.sort()\n",
        "print(list)"
      ],
      "metadata": {
        "colab": {
          "base_uri": "https://localhost:8080/"
        },
        "id": "nE7_7IT5bCg0",
        "outputId": "1c14ad27-1866-4d81-ecc6-636e63e34144"
      },
      "execution_count": 80,
      "outputs": [
        {
          "output_type": "stream",
          "name": "stdout",
          "text": [
            "['apples', 'oranges', 'strawberries', 'blueberries', 'grapes']\n",
            "['apples', 'blueberries', 'grapes', 'oranges', 'strawberries']\n"
          ]
        }
      ]
    },
    {
      "cell_type": "code",
      "source": [
        "#Print out the first three elements of your list\n",
        "\n",
        "print(list[:3])"
      ],
      "metadata": {
        "colab": {
          "base_uri": "https://localhost:8080/"
        },
        "id": "_RB67WLBbqse",
        "outputId": "2d98e606-1b98-4943-8401-876b556b3ec3"
      },
      "execution_count": 81,
      "outputs": [
        {
          "output_type": "stream",
          "name": "stdout",
          "text": [
            "['apples', 'blueberries', 'grapes']\n"
          ]
        }
      ]
    },
    {
      "cell_type": "code",
      "source": [
        "#Create a loop to print the last two elements of your list\n",
        "x = len(list)\n",
        "\n",
        "for x in list:\n",
        "  print(list[-2:])"
      ],
      "metadata": {
        "colab": {
          "base_uri": "https://localhost:8080/"
        },
        "id": "bkFg9w01cSqN",
        "outputId": "4582a727-6d48-4ecd-aa07-17cbb31bde82"
      },
      "execution_count": 97,
      "outputs": [
        {
          "output_type": "stream",
          "name": "stdout",
          "text": [
            "['oranges', 'strawberries']\n",
            "['oranges', 'strawberries']\n",
            "['oranges', 'strawberries']\n",
            "['oranges', 'strawberries']\n",
            "['oranges', 'strawberries']\n"
          ]
        }
      ]
    },
    {
      "cell_type": "markdown",
      "source": [
        "#Lesson Unit 2 - Python Dictionaries"
      ],
      "metadata": {
        "id": "tr-gRHZOekLK"
      }
    },
    {
      "cell_type": "code",
      "source": [
        "#Create a simple dictionary that stores 2 variables, for example: first and last name\n",
        "\n",
        "dic = {'rank': 'General', 'name': 'Kenobi'}"
      ],
      "metadata": {
        "id": "IFwuJFDAeq4D"
      },
      "execution_count": 83,
      "outputs": []
    },
    {
      "cell_type": "code",
      "source": [
        "#Print out those variables stored in your previous dictionary\n",
        "\n",
        "print(dic)"
      ],
      "metadata": {
        "colab": {
          "base_uri": "https://localhost:8080/"
        },
        "id": "XyVwQyPieyLU",
        "outputId": "1f6de841-d1f8-4500-c0c5-0d453d68256c"
      },
      "execution_count": 84,
      "outputs": [
        {
          "output_type": "stream",
          "name": "stdout",
          "text": [
            "{'rank': 'General', 'name': 'Kenobi'}\n"
          ]
        }
      ]
    },
    {
      "cell_type": "code",
      "source": [
        "#Add a message to those variables on printing: for example: “Hello, firstname lastname!”\n",
        "\n",
        "print(f\"Hello there {dic['rank']} {dic['name']}!\")"
      ],
      "metadata": {
        "colab": {
          "base_uri": "https://localhost:8080/"
        },
        "id": "0afpfZAPe9rN",
        "outputId": "f99fc23d-15c9-4bd9-99b2-339c370f58c2"
      },
      "execution_count": 85,
      "outputs": [
        {
          "output_type": "stream",
          "name": "stdout",
          "text": [
            "Hello there General Kenobi!\n"
          ]
        }
      ]
    },
    {
      "cell_type": "code",
      "source": [
        "#Create a dictionary that holds 2 key: value pairs\n",
        "#Look through your dictionary and print each pair\n",
        "\n",
        "dic2 = {}\n",
        "dic2['Name'] = 'Josay'\n",
        "dic2['Allergy'] = 'Existence'\n",
        "\n",
        "print(dic2)"
      ],
      "metadata": {
        "colab": {
          "base_uri": "https://localhost:8080/"
        },
        "id": "yENlkeMPf0Pn",
        "outputId": "ff4c5c89-6796-4bdb-b42a-31e7559599f9"
      },
      "execution_count": 87,
      "outputs": [
        {
          "output_type": "stream",
          "name": "stdout",
          "text": [
            "{'Name': 'Josay', 'Allergy': 'Existence'}\n"
          ]
        }
      ]
    },
    {
      "cell_type": "code",
      "source": [
        "#Create a nested dictionary containing three dictionaries – these dictionaries could be anything (favorite pets, travel locations, etc.)\n",
        "#Loop through the dictionaries and print a message for each.\n",
        "\n",
        "#I think this is what you're asking for? I got the inspiration from my typical research work\n",
        "genes = {1: {'name': 'KRAS', 'subtype': 'protein coding', 'size': '3kb'},\n",
        "          2: {'name': 'mir6724', 'subtype': 'micro RNA', 'size': '.09kb'}, 3: {'name': 'HTR1A', 'subtype': 'transfer RNA', 'size': '.5kb'}}\n",
        "\n",
        "for x in genes:\n",
        "  print(f\"The gene {genes[x]['name']} is subtye {genes[x]['subtype']}, and is {genes[x]['size']} in size\")"
      ],
      "metadata": {
        "colab": {
          "base_uri": "https://localhost:8080/"
        },
        "id": "2-ATncQHg6Wh",
        "outputId": "406d99cb-ee15-4115-ed0c-f8c34b410ef7"
      },
      "execution_count": 93,
      "outputs": [
        {
          "output_type": "stream",
          "name": "stdout",
          "text": [
            "The gene KRAS is subtye protein coding, and is 3kb in size\n",
            "The gene mir6724 is subtye micro RNA, and is .09kb in size\n",
            "The gene HTR1A is subtye transfer RNA, and is .5kb in size\n"
          ]
        }
      ]
    }
  ]
}