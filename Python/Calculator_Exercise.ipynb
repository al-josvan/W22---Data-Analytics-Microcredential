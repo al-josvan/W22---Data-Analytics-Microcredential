{
  "nbformat": 4,
  "nbformat_minor": 0,
  "metadata": {
    "colab": {
      "name": "Calculator Exercise.ipynb",
      "provenance": [],
      "authorship_tag": "ABX9TyOFdpNl+ef/Xfp14QUawc/m",
      "include_colab_link": true
    },
    "kernelspec": {
      "name": "python3",
      "display_name": "Python 3"
    },
    "language_info": {
      "name": "python"
    }
  },
  "cells": [
    {
      "cell_type": "markdown",
      "metadata": {
        "id": "view-in-github",
        "colab_type": "text"
      },
      "source": [
        "<a href=\"https://colab.research.google.com/github/al-josvan/W22---Data-Analytics-Microcredential/blob/main/Python/Calculator_Exercise.ipynb\" target=\"_parent\"><img src=\"https://colab.research.google.com/assets/colab-badge.svg\" alt=\"Open In Colab\"/></a>"
      ]
    },
    {
      "cell_type": "markdown",
      "source": [
        "#Calculator Exercise"
      ],
      "metadata": {
        "id": "IirJNzb7KJkC"
      }
    },
    {
      "cell_type": "code",
      "source": [
        "#Simple Calculator Group 4 Assignment: Jose, Aala, Erik, Jaleeza, Yongguuang, Tamim\n",
        "\n",
        "\n",
        "#Print statement to identify operation user wants to do\n",
        "print('Select an operation you\\'d like to perform (1. add, 2. subtract, 3. multiply, 4. divide)\\n')\n",
        "\n",
        "#Addition function\n",
        "def addition (a,b):\n",
        "  return a + b\n",
        "\n",
        "#Subtraction function\n",
        "def subtraction (a,b):\n",
        "  return a - b\n",
        "\n",
        "#Multiplication function\n",
        "def multiplication (a,b):\n",
        "  return a*b\n",
        "\n",
        "#Division function with else statement if denominator is zero\n",
        "def division (a,b):\n",
        "  if b != 0:\n",
        "    return a/b\n",
        "  else:  \n",
        "    print('Cannot divide by zero, go back to elementary school. \\n')\n",
        "\n",
        "#While loop that continues working only if the user wants to\n",
        "while True:\n",
        "  operation = (input('\\nEnter 1, 2, 3 or 4 to signal operation of choice: '))\n",
        "\n",
        "#Prompt user for numbers only if they enter the proper input for designating operation\n",
        "  if operation in ('1', '2', '3', '4'):\n",
        "    number1 = float(input('What is the first number: '))\n",
        "    number2 = float(input('What is the second number: '))\n",
        "\n",
        "#Condition for addtition operation and calling the functi4on\n",
        "    if operation == '1':\n",
        "      print(number1, '+', number2, '=', addition(number1, number2))\n",
        "\n",
        "#Condition for substraction operation and calling the function\n",
        "    elif operation == '2':\n",
        "      print(number1, '-', number2, '=', subtraction(number1, number2))\n",
        "\n",
        "#Condition for multiplication operation and calling the function\n",
        "    elif operation == '3':\n",
        "      print(number1, '*', number2, '=', multiplication(number1, number2))\n",
        "\n",
        "#Condition for division operation and calling the function\n",
        "    elif operation == '4':\n",
        "      print(number1, '/', number2, '=', division(number1, number2))\n",
        "\n",
        "#Prompt user to continue with another operation or break while loop to end program\n",
        "    cont = input('\\nWould you like to perform another operation? (y/n). \\n')\n",
        "    if cont == 'n':\n",
        "      break\n",
        "\n",
        "#If input is invalid, generate error message\n",
        "  else:\n",
        "    print('Error, invalid input.')"
      ],
      "metadata": {
        "colab": {
          "base_uri": "https://localhost:8080/"
        },
        "id": "nSMiGuiJ9ifi",
        "outputId": "3a000368-02cd-4c67-81a5-34d1744fb53a"
      },
      "execution_count": 1,
      "outputs": [
        {
          "name": "stdout",
          "output_type": "stream",
          "text": [
            "Select an operation you'd like to perform (1. add, 2. subtract, 3. multiply, 4. divide)\n",
            "\n",
            "\n",
            "Enter 1, 2, 3 or 4 to signal operation of choice: 4\n",
            "What is the first number: 1\n",
            "What is the second number: 0\n",
            "Cannot divide by zero, go back to elementary school. \n",
            "\n",
            "1.0 / 0.0 = None\n",
            "\n",
            "Would you like to perform another operation? (y/n). \n",
            "n\n"
          ]
        }
      ]
    }
  ]
}