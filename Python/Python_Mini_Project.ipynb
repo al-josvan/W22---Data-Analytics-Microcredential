{
  "nbformat": 4,
  "nbformat_minor": 0,
  "metadata": {
    "colab": {
      "name": "Python Mini Project",
      "provenance": [],
      "collapsed_sections": [],
      "include_colab_link": true
    },
    "kernelspec": {
      "name": "python3",
      "display_name": "Python 3"
    },
    "language_info": {
      "name": "python"
    }
  },
  "cells": [
    {
      "cell_type": "markdown",
      "metadata": {
        "id": "view-in-github",
        "colab_type": "text"
      },
      "source": [
        "<a href=\"https://colab.research.google.com/github/al-josvan/W22---Data-Analytics-Microcredential/blob/main/Python/Python_Mini_Project.ipynb\" target=\"_parent\"><img src=\"https://colab.research.google.com/assets/colab-badge.svg\" alt=\"Open In Colab\"/></a>"
      ]
    },
    {
      "cell_type": "code",
      "execution_count": 1,
      "metadata": {
        "id": "oHT_c0owCJvd"
      },
      "outputs": [],
      "source": [
        "#define iseven\n",
        "def iseven(num):\n",
        "#divide the number by two\n",
        "  if num%2==0 and num%4!=0:\n",
        "#print the number is even if it's divisible by two\n",
        "    print(num, \"is even\")\n",
        "  if num%4==0:\n",
        "    print(num ,\"is a multiple of 4\")\n",
        "  else:\n",
        "#print the number is odd if it is not divisible by two\n",
        "    print(num,\"is odd\")"
      ]
    },
    {
      "cell_type": "code",
      "source": [
        "#enter a number\n",
        "num=int(input(\"Enter a number:\"))\n",
        "#call the function\n",
        "iseven(num)"
      ],
      "metadata": {
        "colab": {
          "base_uri": "https://localhost:8080/"
        },
        "id": "pWg33F3vCMtO",
        "outputId": "14653874-a1c6-4cde-b23f-f296b8293037"
      },
      "execution_count": 2,
      "outputs": [
        {
          "output_type": "stream",
          "name": "stdout",
          "text": [
            "Enter a number:80\n",
            "80 is a multiple of 4\n"
          ]
        }
      ]
    },
    {
      "cell_type": "code",
      "source": [
        "#enter the number\n",
        "num = int(input(\"Enter a value do you like the result: \")) \n",
        "#enter the check \n",
        "check = int(input(\"Enter a value do you like the result: \")) \n",
        "#divide the number by the check\n",
        "if (num % check) == 0: \n",
        "#the number is divisible by the check\n",
        "  print(\"check divides evenly into num\") \n",
        "else: \n",
        "  #the number isn't divisible by the check\n",
        "  print(\"Check does not divide evenly into num\")"
      ],
      "metadata": {
        "colab": {
          "base_uri": "https://localhost:8080/"
        },
        "id": "yZ8743AaCTzD",
        "outputId": "18cec904-bfd4-4a5c-8e9b-67d53d80a357"
      },
      "execution_count": 3,
      "outputs": [
        {
          "output_type": "stream",
          "name": "stdout",
          "text": [
            "Enter a value do you like the result: 50\n",
            "Enter a value do you like the result: 50\n",
            "check divides evenly into num\n"
          ]
        }
      ]
    }
  ]
}