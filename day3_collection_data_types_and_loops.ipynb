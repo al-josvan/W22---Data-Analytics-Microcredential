{
  "nbformat": 4,
  "nbformat_minor": 0,
  "metadata": {
    "colab": {
      "name": "day3-collection data types and loops.ipynb",
      "provenance": [],
      "collapsed_sections": [
        "6i2z1qlQtS16",
        "Knmcjn1nyBxK",
        "u1TQxl1X2FWQ"
      ],
      "authorship_tag": "ABX9TyNNyTHd7mbXhUjXinqZb7ep",
      "include_colab_link": true
    },
    "kernelspec": {
      "name": "python3",
      "display_name": "Python 3"
    },
    "language_info": {
      "name": "python"
    }
  },
  "cells": [
    {
      "cell_type": "markdown",
      "metadata": {
        "id": "view-in-github",
        "colab_type": "text"
      },
      "source": [
        "<a href=\"https://colab.research.google.com/github/al-josvan/W22---Data-Analytics-Microcredential/blob/main/day3_collection_data_types_and_loops.ipynb\" target=\"_parent\"><img src=\"https://colab.research.google.com/assets/colab-badge.svg\" alt=\"Open In Colab\"/></a>"
      ]
    },
    {
      "cell_type": "markdown",
      "source": [
        "#Dictionaries"
      ],
      "metadata": {
        "id": "6i2z1qlQtS16"
      }
    },
    {
      "cell_type": "code",
      "source": [
        "patient_1 = {'first_name': 'John', 'last_name': 'Kimble'}"
      ],
      "metadata": {
        "id": "iHGVZhBcuZT9"
      },
      "execution_count": null,
      "outputs": []
    },
    {
      "cell_type": "code",
      "source": [
        "print(patient_1['first_name'])\n",
        "print(patient_1['last_name'])"
      ],
      "metadata": {
        "colab": {
          "base_uri": "https://localhost:8080/"
        },
        "id": "OSea0th7uzEZ",
        "outputId": "08bd187b-b00d-4b78-aa94-7aa6ea8eefa5"
      },
      "execution_count": null,
      "outputs": [
        {
          "output_type": "stream",
          "name": "stdout",
          "text": [
            "John\n",
            "Kimble\n"
          ]
        }
      ]
    },
    {
      "cell_type": "code",
      "source": [
        "patient_name = patient_1['first_name']\n",
        "print('Hello there, ' + patient_name)"
      ],
      "metadata": {
        "colab": {
          "base_uri": "https://localhost:8080/"
        },
        "id": "dmCFJ14Pu6gq",
        "outputId": "dc777b62-1116-4d0a-ab7f-1a0263bfed04"
      },
      "execution_count": null,
      "outputs": [
        {
          "output_type": "stream",
          "name": "stdout",
          "text": [
            "Hello there, John\n"
          ]
        }
      ]
    },
    {
      "cell_type": "code",
      "source": [
        "patient_1['MRN'] = '000000000'\n",
        "patient_1['Last_exam'] = 'echo'\n",
        "patient_1"
      ],
      "metadata": {
        "colab": {
          "base_uri": "https://localhost:8080/"
        },
        "id": "hey5kBIqvC_L",
        "outputId": "21b13220-363d-4a7f-b9c9-cfc202c2d707"
      },
      "execution_count": null,
      "outputs": [
        {
          "output_type": "execute_result",
          "data": {
            "text/plain": [
              "{'Last_exam': 'echo',\n",
              " 'MRN': '000000000',\n",
              " 'first_name': 'John',\n",
              " 'last_name': 'Kimble'}"
            ]
          },
          "metadata": {},
          "execution_count": 7
        }
      ]
    },
    {
      "cell_type": "code",
      "source": [
        "patient_2 = {}\n",
        "patient_2['first_name'] = 'Jean'\n",
        "patient_2['last_name'] = 'Picard'\n",
        "print(patient_2)"
      ],
      "metadata": {
        "colab": {
          "base_uri": "https://localhost:8080/"
        },
        "id": "Sa6wWUkuvmQL",
        "outputId": "55be4232-c40c-498d-eeab-1b4e8ea573b1"
      },
      "execution_count": null,
      "outputs": [
        {
          "output_type": "stream",
          "name": "stdout",
          "text": [
            "{'first_name': 'Jean', 'last_name': 'Picard'}\n"
          ]
        }
      ]
    },
    {
      "cell_type": "code",
      "source": [
        "patient_2['MRN'] = '000000001'\n",
        "patient_2['Last_exam'] = 'mammogram'\n",
        "patient_2['Allergies'] = 'penecilin'\n",
        "patient_2"
      ],
      "metadata": {
        "colab": {
          "base_uri": "https://localhost:8080/"
        },
        "id": "8E28FsvHvshZ",
        "outputId": "189e267d-c26e-42b5-e49c-cc2464fbc09a"
      },
      "execution_count": null,
      "outputs": [
        {
          "output_type": "execute_result",
          "data": {
            "text/plain": [
              "{'Allergies': 'penecilin',\n",
              " 'Last_exam': 'mammogram',\n",
              " 'MRN': '000000001',\n",
              " 'first_name': 'Jean-Luc',\n",
              " 'last_name': 'Picard'}"
            ]
          },
          "metadata": {},
          "execution_count": 11
        }
      ]
    },
    {
      "cell_type": "code",
      "source": [
        "patient_2['first_name'] = 'Jean-Luc'\n",
        "print(patient_2)"
      ],
      "metadata": {
        "colab": {
          "base_uri": "https://localhost:8080/"
        },
        "id": "TXV8g9U0wiga",
        "outputId": "eb3b2c0c-f9ca-466e-96ff-ece4c63b6e63"
      },
      "execution_count": null,
      "outputs": [
        {
          "output_type": "stream",
          "name": "stdout",
          "text": [
            "{'first_name': 'Jean-Luc', 'last_name': 'Picard', 'MRN': '000000001', 'Last_exam': 'mammogram', 'Allergies': 'penecilin'}\n"
          ]
        }
      ]
    },
    {
      "cell_type": "code",
      "source": [
        "del patient_2['Allergies']\n",
        "print(patient_2)"
      ],
      "metadata": {
        "colab": {
          "base_uri": "https://localhost:8080/"
        },
        "id": "OlFJx3RZwqSJ",
        "outputId": "0982c09d-6458-40ce-b440-53a651717ce1"
      },
      "execution_count": null,
      "outputs": [
        {
          "output_type": "stream",
          "name": "stdout",
          "text": [
            "{'first_name': 'Jean-Luc', 'last_name': 'Picard', 'MRN': '000000001', 'Last_exam': 'mammogram'}\n"
          ]
        }
      ]
    },
    {
      "cell_type": "code",
      "source": [
        "print('Patient_2\\'s last exam was: ' + patient_2['Last_exam'])"
      ],
      "metadata": {
        "colab": {
          "base_uri": "https://localhost:8080/"
        },
        "id": "tnlQWQKrw5gq",
        "outputId": "f1cd7d3e-28d1-482f-8dfd-1bfb09b7cc1a"
      },
      "execution_count": null,
      "outputs": [
        {
          "output_type": "stream",
          "name": "stdout",
          "text": [
            "Patient_2's last exam was: mammogram\n"
          ]
        }
      ]
    },
    {
      "cell_type": "code",
      "source": [
        "#Important: pull last 4 values of the string \n",
        "print(f'Patient_2\\'s patient identifer is: {patient_2[\"MRN\"][-4:]}')"
      ],
      "metadata": {
        "colab": {
          "base_uri": "https://localhost:8080/"
        },
        "id": "JsZmAWc5xUir",
        "outputId": "1b5b8a30-13b3-45f1-ef7c-3a29cca3d527"
      },
      "execution_count": null,
      "outputs": [
        {
          "output_type": "stream",
          "name": "stdout",
          "text": [
            "Patient_2's patient identifer is: 0001\n"
          ]
        }
      ]
    },
    {
      "cell_type": "markdown",
      "source": [
        "#Nesting with Dictionaries"
      ],
      "metadata": {
        "id": "Knmcjn1nyBxK"
      }
    },
    {
      "cell_type": "code",
      "source": [
        "#Dictionary nested inside a dictioanry inside a dictionary\n",
        "d = {'key1':{'nestkey':{'subkey':'value'}}}"
      ],
      "metadata": {
        "id": "ME1uFgWt17nc"
      },
      "execution_count": null,
      "outputs": []
    },
    {
      "cell_type": "markdown",
      "source": [
        "#Dictionary Methods"
      ],
      "metadata": {
        "id": "u1TQxl1X2FWQ"
      }
    },
    {
      "cell_type": "code",
      "source": [
        "# Create a typical dictionary\n",
        "d = {'key1':1,'key2':2,'key3':3}"
      ],
      "metadata": {
        "id": "mJdaKRR92ssL"
      },
      "execution_count": null,
      "outputs": []
    },
    {
      "cell_type": "code",
      "source": [
        "# Method to return a list of all keys \n",
        "d.keys()"
      ],
      "metadata": {
        "colab": {
          "base_uri": "https://localhost:8080/"
        },
        "id": "S_tEs30K2uJD",
        "outputId": "75cbb56e-6154-4e8c-d74d-6a331bbc6fcd"
      },
      "execution_count": null,
      "outputs": [
        {
          "output_type": "execute_result",
          "data": {
            "text/plain": [
              "dict_keys(['key1', 'key2', 'key3'])"
            ]
          },
          "metadata": {},
          "execution_count": 37
        }
      ]
    },
    {
      "cell_type": "code",
      "source": [
        "# Method to grab all values\n",
        "d.values()"
      ],
      "metadata": {
        "colab": {
          "base_uri": "https://localhost:8080/"
        },
        "id": "rS3QqDX72vbL",
        "outputId": "e85241e4-f74d-4427-84e9-142b096f218c"
      },
      "execution_count": null,
      "outputs": [
        {
          "output_type": "execute_result",
          "data": {
            "text/plain": [
              "dict_values([1, 2, 3])"
            ]
          },
          "metadata": {},
          "execution_count": 38
        }
      ]
    },
    {
      "cell_type": "code",
      "source": [
        "# Method to return tuples of all items  (we'll learn about tuples soon)\n",
        "d.items()"
      ],
      "metadata": {
        "colab": {
          "base_uri": "https://localhost:8080/"
        },
        "id": "PHa1C4yY2wmD",
        "outputId": "a589fa31-fd2b-4b65-ae6e-2e01ca0bc036"
      },
      "execution_count": null,
      "outputs": [
        {
          "output_type": "execute_result",
          "data": {
            "text/plain": [
              "dict_items([('key1', 1), ('key2', 2), ('key3', 3)])"
            ]
          },
          "metadata": {},
          "execution_count": 39
        }
      ]
    },
    {
      "cell_type": "markdown",
      "source": [
        "# For Loops"
      ],
      "metadata": {
        "id": "8OM2b7YW7QXS"
      }
    },
    {
      "cell_type": "code",
      "source": [
        "for x in 'CUNY':\n",
        "  print(x)"
      ],
      "metadata": {
        "colab": {
          "base_uri": "https://localhost:8080/"
        },
        "id": "dnuSHpmG7X-W",
        "outputId": "5184bb3e-055b-46c9-ff8f-a383245b3d65"
      },
      "execution_count": null,
      "outputs": [
        {
          "output_type": "stream",
          "name": "stdout",
          "text": [
            "C\n",
            "U\n",
            "N\n",
            "Y\n"
          ]
        }
      ]
    },
    {
      "cell_type": "code",
      "source": [
        "TV_Shows = ['Game of Thrones', 'Star Trek', 'Stranger Things']"
      ],
      "metadata": {
        "id": "Z5t4jUFx7XQ-"
      },
      "execution_count": null,
      "outputs": []
    },
    {
      "cell_type": "code",
      "source": [
        "for c in TV_Shows:\n",
        "  print(c)"
      ],
      "metadata": {
        "colab": {
          "base_uri": "https://localhost:8080/"
        },
        "id": "lcFOU9F97XCM",
        "outputId": "df2d0e3e-5448-4bdc-b06b-0964e84ba228"
      },
      "execution_count": null,
      "outputs": [
        {
          "output_type": "stream",
          "name": "stdout",
          "text": [
            "Game of Thrones\n",
            "Star Trek\n",
            "Stranger Things\n"
          ]
        }
      ]
    },
    {
      "cell_type": "code",
      "source": [
        ""
      ],
      "metadata": {
        "id": "WnO6ASIh7W-Z"
      },
      "execution_count": null,
      "outputs": []
    }
  ]
}