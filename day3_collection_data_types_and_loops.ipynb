{
  "nbformat": 4,
  "nbformat_minor": 0,
  "metadata": {
    "colab": {
      "name": "day3-collection data types and loops.ipynb",
      "provenance": [],
      "collapsed_sections": [
        "6i2z1qlQtS16",
        "Knmcjn1nyBxK",
        "u1TQxl1X2FWQ"
      ],
      "authorship_tag": "ABX9TyPCdbCA4NAM8Ejmin3W7kQQ",
      "include_colab_link": true
    },
    "kernelspec": {
      "name": "python3",
      "display_name": "Python 3"
    },
    "language_info": {
      "name": "python"
    }
  },
  "cells": [
    {
      "cell_type": "markdown",
      "metadata": {
        "id": "view-in-github",
        "colab_type": "text"
      },
      "source": [
        "<a href=\"https://colab.research.google.com/github/al-josvan/W22---Data-Analytics-Microcredential/blob/main/day3_collection_data_types_and_loops.ipynb\" target=\"_parent\"><img src=\"https://colab.research.google.com/assets/colab-badge.svg\" alt=\"Open In Colab\"/></a>"
      ]
    },
    {
      "cell_type": "markdown",
      "source": [
        "#Dictionaries"
      ],
      "metadata": {
        "id": "6i2z1qlQtS16"
      }
    },
    {
      "cell_type": "code",
      "source": [
        "patient_1 = {'first_name': 'John', 'last_name': 'Kimble'}"
      ],
      "metadata": {
        "id": "iHGVZhBcuZT9"
      },
      "execution_count": null,
      "outputs": []
    },
    {
      "cell_type": "code",
      "source": [
        "print(patient_1['first_name'])\n",
        "print(patient_1['last_name'])"
      ],
      "metadata": {
        "colab": {
          "base_uri": "https://localhost:8080/"
        },
        "id": "OSea0th7uzEZ",
        "outputId": "08bd187b-b00d-4b78-aa94-7aa6ea8eefa5"
      },
      "execution_count": null,
      "outputs": [
        {
          "output_type": "stream",
          "name": "stdout",
          "text": [
            "John\n",
            "Kimble\n"
          ]
        }
      ]
    },
    {
      "cell_type": "code",
      "source": [
        "patient_name = patient_1['first_name']\n",
        "print('Hello there, ' + patient_name)"
      ],
      "metadata": {
        "colab": {
          "base_uri": "https://localhost:8080/"
        },
        "id": "dmCFJ14Pu6gq",
        "outputId": "dc777b62-1116-4d0a-ab7f-1a0263bfed04"
      },
      "execution_count": null,
      "outputs": [
        {
          "output_type": "stream",
          "name": "stdout",
          "text": [
            "Hello there, John\n"
          ]
        }
      ]
    },
    {
      "cell_type": "code",
      "source": [
        "patient_1['MRN'] = '000000000'\n",
        "patient_1['Last_exam'] = 'echo'\n",
        "patient_1"
      ],
      "metadata": {
        "colab": {
          "base_uri": "https://localhost:8080/"
        },
        "id": "hey5kBIqvC_L",
        "outputId": "21b13220-363d-4a7f-b9c9-cfc202c2d707"
      },
      "execution_count": null,
      "outputs": [
        {
          "output_type": "execute_result",
          "data": {
            "text/plain": [
              "{'Last_exam': 'echo',\n",
              " 'MRN': '000000000',\n",
              " 'first_name': 'John',\n",
              " 'last_name': 'Kimble'}"
            ]
          },
          "metadata": {},
          "execution_count": 7
        }
      ]
    },
    {
      "cell_type": "code",
      "source": [
        "patient_2 = {}\n",
        "patient_2['first_name'] = 'Jean'\n",
        "patient_2['last_name'] = 'Picard'\n",
        "print(patient_2)"
      ],
      "metadata": {
        "colab": {
          "base_uri": "https://localhost:8080/"
        },
        "id": "Sa6wWUkuvmQL",
        "outputId": "55be4232-c40c-498d-eeab-1b4e8ea573b1"
      },
      "execution_count": null,
      "outputs": [
        {
          "output_type": "stream",
          "name": "stdout",
          "text": [
            "{'first_name': 'Jean', 'last_name': 'Picard'}\n"
          ]
        }
      ]
    },
    {
      "cell_type": "code",
      "source": [
        "patient_2['MRN'] = '000000001'\n",
        "patient_2['Last_exam'] = 'mammogram'\n",
        "patient_2['Allergies'] = 'penecilin'\n",
        "patient_2"
      ],
      "metadata": {
        "colab": {
          "base_uri": "https://localhost:8080/"
        },
        "id": "8E28FsvHvshZ",
        "outputId": "189e267d-c26e-42b5-e49c-cc2464fbc09a"
      },
      "execution_count": null,
      "outputs": [
        {
          "output_type": "execute_result",
          "data": {
            "text/plain": [
              "{'Allergies': 'penecilin',\n",
              " 'Last_exam': 'mammogram',\n",
              " 'MRN': '000000001',\n",
              " 'first_name': 'Jean-Luc',\n",
              " 'last_name': 'Picard'}"
            ]
          },
          "metadata": {},
          "execution_count": 11
        }
      ]
    },
    {
      "cell_type": "code",
      "source": [
        "patient_2['first_name'] = 'Jean-Luc'\n",
        "print(patient_2)"
      ],
      "metadata": {
        "colab": {
          "base_uri": "https://localhost:8080/"
        },
        "id": "TXV8g9U0wiga",
        "outputId": "eb3b2c0c-f9ca-466e-96ff-ece4c63b6e63"
      },
      "execution_count": null,
      "outputs": [
        {
          "output_type": "stream",
          "name": "stdout",
          "text": [
            "{'first_name': 'Jean-Luc', 'last_name': 'Picard', 'MRN': '000000001', 'Last_exam': 'mammogram', 'Allergies': 'penecilin'}\n"
          ]
        }
      ]
    },
    {
      "cell_type": "code",
      "source": [
        "del patient_2['Allergies']\n",
        "print(patient_2)"
      ],
      "metadata": {
        "colab": {
          "base_uri": "https://localhost:8080/"
        },
        "id": "OlFJx3RZwqSJ",
        "outputId": "0982c09d-6458-40ce-b440-53a651717ce1"
      },
      "execution_count": null,
      "outputs": [
        {
          "output_type": "stream",
          "name": "stdout",
          "text": [
            "{'first_name': 'Jean-Luc', 'last_name': 'Picard', 'MRN': '000000001', 'Last_exam': 'mammogram'}\n"
          ]
        }
      ]
    },
    {
      "cell_type": "code",
      "source": [
        "print('Patient_2\\'s last exam was: ' + patient_2['Last_exam'])"
      ],
      "metadata": {
        "colab": {
          "base_uri": "https://localhost:8080/"
        },
        "id": "tnlQWQKrw5gq",
        "outputId": "f1cd7d3e-28d1-482f-8dfd-1bfb09b7cc1a"
      },
      "execution_count": null,
      "outputs": [
        {
          "output_type": "stream",
          "name": "stdout",
          "text": [
            "Patient_2's last exam was: mammogram\n"
          ]
        }
      ]
    },
    {
      "cell_type": "code",
      "source": [
        "#Important: pull last 4 values of the string \n",
        "print(f'Patient_2\\'s patient identifer is: {patient_2[\"MRN\"][-4:]}')"
      ],
      "metadata": {
        "colab": {
          "base_uri": "https://localhost:8080/"
        },
        "id": "JsZmAWc5xUir",
        "outputId": "1b5b8a30-13b3-45f1-ef7c-3a29cca3d527"
      },
      "execution_count": null,
      "outputs": [
        {
          "output_type": "stream",
          "name": "stdout",
          "text": [
            "Patient_2's patient identifer is: 0001\n"
          ]
        }
      ]
    },
    {
      "cell_type": "markdown",
      "source": [
        "#Nesting with Dictionaries"
      ],
      "metadata": {
        "id": "Knmcjn1nyBxK"
      }
    },
    {
      "cell_type": "code",
      "source": [
        "#Dictionary nested inside a dictioanry inside a dictionary\n",
        "d = {'key1':{'nestkey':{'subkey':'value'}}}"
      ],
      "metadata": {
        "id": "ME1uFgWt17nc"
      },
      "execution_count": null,
      "outputs": []
    },
    {
      "cell_type": "markdown",
      "source": [
        "#Dictionary Methods"
      ],
      "metadata": {
        "id": "u1TQxl1X2FWQ"
      }
    },
    {
      "cell_type": "code",
      "source": [
        "# Create a typical dictionary\n",
        "d = {'key1':1,'key2':2,'key3':3}"
      ],
      "metadata": {
        "id": "mJdaKRR92ssL"
      },
      "execution_count": null,
      "outputs": []
    },
    {
      "cell_type": "code",
      "source": [
        "# Method to return a list of all keys \n",
        "d.keys()"
      ],
      "metadata": {
        "colab": {
          "base_uri": "https://localhost:8080/"
        },
        "id": "S_tEs30K2uJD",
        "outputId": "75cbb56e-6154-4e8c-d74d-6a331bbc6fcd"
      },
      "execution_count": null,
      "outputs": [
        {
          "output_type": "execute_result",
          "data": {
            "text/plain": [
              "dict_keys(['key1', 'key2', 'key3'])"
            ]
          },
          "metadata": {},
          "execution_count": 37
        }
      ]
    },
    {
      "cell_type": "code",
      "source": [
        "# Method to grab all values\n",
        "d.values()"
      ],
      "metadata": {
        "colab": {
          "base_uri": "https://localhost:8080/"
        },
        "id": "rS3QqDX72vbL",
        "outputId": "e85241e4-f74d-4427-84e9-142b096f218c"
      },
      "execution_count": null,
      "outputs": [
        {
          "output_type": "execute_result",
          "data": {
            "text/plain": [
              "dict_values([1, 2, 3])"
            ]
          },
          "metadata": {},
          "execution_count": 38
        }
      ]
    },
    {
      "cell_type": "code",
      "source": [
        "# Method to return tuples of all items  (we'll learn about tuples soon)\n",
        "d.items()"
      ],
      "metadata": {
        "colab": {
          "base_uri": "https://localhost:8080/"
        },
        "id": "PHa1C4yY2wmD",
        "outputId": "a589fa31-fd2b-4b65-ae6e-2e01ca0bc036"
      },
      "execution_count": null,
      "outputs": [
        {
          "output_type": "execute_result",
          "data": {
            "text/plain": [
              "dict_items([('key1', 1), ('key2', 2), ('key3', 3)])"
            ]
          },
          "metadata": {},
          "execution_count": 39
        }
      ]
    },
    {
      "cell_type": "markdown",
      "source": [
        "# For Loops"
      ],
      "metadata": {
        "id": "8OM2b7YW7QXS"
      }
    },
    {
      "cell_type": "code",
      "source": [
        "for x in 'CUNY':\n",
        "  print(x)"
      ],
      "metadata": {
        "colab": {
          "base_uri": "https://localhost:8080/"
        },
        "id": "dnuSHpmG7X-W",
        "outputId": "bba9a2f3-9a9d-4a59-dd0c-a4857bb3d130"
      },
      "execution_count": 43,
      "outputs": [
        {
          "output_type": "stream",
          "name": "stdout",
          "text": [
            "C\n",
            "U\n",
            "N\n",
            "Y\n"
          ]
        }
      ]
    },
    {
      "cell_type": "code",
      "source": [
        "tv_shows = ['Game of Thrones', 'Star Trek', 'Stranger Things']"
      ],
      "metadata": {
        "id": "Z5t4jUFx7XQ-"
      },
      "execution_count": 49,
      "outputs": []
    },
    {
      "cell_type": "code",
      "source": [
        "for i in tv_shows:\n",
        "  print(i)"
      ],
      "metadata": {
        "colab": {
          "base_uri": "https://localhost:8080/"
        },
        "id": "lcFOU9F97XCM",
        "outputId": "53804aee-f2fe-4fa3-bd34-86339125c547"
      },
      "execution_count": 50,
      "outputs": [
        {
          "output_type": "stream",
          "name": "stdout",
          "text": [
            "Game of Thrones\n",
            "Star Trek\n",
            "Stranger Things\n"
          ]
        }
      ]
    },
    {
      "cell_type": "code",
      "source": [
        "for show in tv_shows:\n",
        "  print(show.title() + ', is one of my favorite TV shows!')"
      ],
      "metadata": {
        "id": "WnO6ASIh7W-Z",
        "colab": {
          "base_uri": "https://localhost:8080/"
        },
        "outputId": "262ba6aa-b3f3-4a28-cb67-0c117220646a"
      },
      "execution_count": 53,
      "outputs": [
        {
          "output_type": "stream",
          "name": "stdout",
          "text": [
            "Game Of Thrones, is one of my favorite TV shows!\n",
            "Star Trek, is one of my favorite TV shows!\n",
            "Stranger Things, is one of my favorite TV shows!\n"
          ]
        }
      ]
    },
    {
      "cell_type": "code",
      "source": [
        "fruits = ['Apples', 'Banannas', 'Cherries', 'Durian', 'Elderberries', 'Figs', 'Gooseberies', 'Huckleberries']\n",
        "for i in fruits:\n",
        "  print(i.title() + ' are my favorite, that being said I really would try anything.')"
      ],
      "metadata": {
        "colab": {
          "base_uri": "https://localhost:8080/"
        },
        "id": "FIMW3vYS-6Y2",
        "outputId": "ecb0f410-b0b0-4178-a5a4-261612c12573"
      },
      "execution_count": 65,
      "outputs": [
        {
          "output_type": "stream",
          "name": "stdout",
          "text": [
            "Apples are my favorite, that being said I really would try anything.\n",
            "Banannas are my favorite, that being said I really would try anything.\n",
            "Cherries are my favorite, that being said I really would try anything.\n",
            "Durian are my favorite, that being said I really would try anything.\n",
            "Elderberries are my favorite, that being said I really would try anything.\n",
            "Figs are my favorite, that being said I really would try anything.\n",
            "Gooseberies are my favorite, that being said I really would try anything.\n",
            "Huckleberries are my favorite, that being said I really would try anything.\n"
          ]
        }
      ]
    },
    {
      "cell_type": "code",
      "source": [
        "fruits"
      ],
      "metadata": {
        "colab": {
          "base_uri": "https://localhost:8080/"
        },
        "id": "OctDkLiF_nJz",
        "outputId": "9f5a2ceb-6e15-451e-ee04-d24df8d124ac"
      },
      "execution_count": 66,
      "outputs": [
        {
          "output_type": "execute_result",
          "data": {
            "text/plain": [
              "['Apples',\n",
              " 'Banannas',\n",
              " 'Cherries',\n",
              " 'Durian',\n",
              " 'Elderberries',\n",
              " 'Figs',\n",
              " 'Gooseberies',\n",
              " 'Huckleberries']"
            ]
          },
          "metadata": {},
          "execution_count": 66
        }
      ]
    },
    {
      "cell_type": "code",
      "source": [
        "for x in range(0,500,45):\n",
        "  print(x/15)"
      ],
      "metadata": {
        "colab": {
          "base_uri": "https://localhost:8080/"
        },
        "id": "_hwu_5BS_zH9",
        "outputId": "b12bf52e-f3f8-4df1-e20b-517ba4cadd7a"
      },
      "execution_count": 76,
      "outputs": [
        {
          "output_type": "stream",
          "name": "stdout",
          "text": [
            "0.0\n",
            "3.0\n",
            "6.0\n",
            "9.0\n",
            "12.0\n",
            "15.0\n",
            "18.0\n",
            "21.0\n",
            "24.0\n",
            "27.0\n",
            "30.0\n",
            "33.0\n"
          ]
        }
      ]
    },
    {
      "cell_type": "code",
      "source": [
        "numbers = list(range(21,1,-1))\n",
        "print(numbers)"
      ],
      "metadata": {
        "colab": {
          "base_uri": "https://localhost:8080/"
        },
        "id": "NG3r41o3CYxu",
        "outputId": "ebfb22ad-1e06-4296-f390-a8423f829abd"
      },
      "execution_count": 78,
      "outputs": [
        {
          "output_type": "stream",
          "name": "stdout",
          "text": [
            "[21, 20, 19, 18, 17, 16, 15, 14, 13, 12, 11, 10, 9, 8, 7, 6, 5, 4, 3, 2]\n"
          ]
        }
      ]
    },
    {
      "cell_type": "code",
      "source": [
        "print(len(numbers))\n",
        "print(min(numbers))\n",
        "print(max(numbers))"
      ],
      "metadata": {
        "colab": {
          "base_uri": "https://localhost:8080/"
        },
        "id": "h_EXzmzZDZmO",
        "outputId": "392c41eb-b77b-4a19-9169-50e0bd336a63"
      },
      "execution_count": 85,
      "outputs": [
        {
          "output_type": "stream",
          "name": "stdout",
          "text": [
            "20\n",
            "2\n",
            "21\n"
          ]
        }
      ]
    },
    {
      "cell_type": "code",
      "source": [
        "#18/7 what is the remainder? 7*2 =14, so 4\n",
        "18 % 7"
      ],
      "metadata": {
        "colab": {
          "base_uri": "https://localhost:8080/"
        },
        "id": "ALMNCrIiDoPA",
        "outputId": "46ff22d0-ae94-4a41-86f5-65409ab0838f"
      },
      "execution_count": 87,
      "outputs": [
        {
          "output_type": "execute_result",
          "data": {
            "text/plain": [
              "4"
            ]
          },
          "metadata": {},
          "execution_count": 87
        }
      ]
    },
    {
      "cell_type": "code",
      "source": [
        "for n in numbers:\n",
        "  if n % 2 == 0:\n",
        "    print(n)"
      ],
      "metadata": {
        "colab": {
          "base_uri": "https://localhost:8080/"
        },
        "id": "vzqQssm0D0w_",
        "outputId": "8e2b818a-acf4-495c-b7f4-76d3a3a20e88"
      },
      "execution_count": 93,
      "outputs": [
        {
          "output_type": "stream",
          "name": "stdout",
          "text": [
            "20\n",
            "18\n",
            "16\n",
            "14\n",
            "12\n",
            "10\n",
            "8\n",
            "6\n",
            "4\n",
            "2\n"
          ]
        }
      ]
    },
    {
      "cell_type": "code",
      "source": [
        "#Identifying if a number in a list is even or odd\n",
        "l = [1,2,3,4,5,6,7,8,9,10, 23, 5, 6, 87, 98765, 345, 52, 3465, 4123, 454, 90]\n",
        "for n in l:\n",
        "  if n % 2 == 0:\n",
        "    print(n, 'is an even number.')\n",
        "  #elif n % 2 != 0:\n",
        "  else:\n",
        "    print(n, 'is odd and that\\'s ok.')"
      ],
      "metadata": {
        "colab": {
          "base_uri": "https://localhost:8080/"
        },
        "id": "N6huqF0gECS-",
        "outputId": "da7e3e8f-7863-40b5-9ced-dfa8c5b33cc7"
      },
      "execution_count": 98,
      "outputs": [
        {
          "output_type": "stream",
          "name": "stdout",
          "text": [
            "1 is odd and that's ok.\n",
            "2 is an even number.\n",
            "3 is odd and that's ok.\n",
            "4 is an even number.\n",
            "5 is odd and that's ok.\n",
            "6 is an even number.\n",
            "7 is odd and that's ok.\n",
            "8 is an even number.\n",
            "9 is odd and that's ok.\n",
            "10 is an even number.\n",
            "23 is odd and that's ok.\n",
            "5 is odd and that's ok.\n",
            "6 is an even number.\n",
            "87 is odd and that's ok.\n",
            "98765 is odd and that's ok.\n",
            "345 is odd and that's ok.\n",
            "52 is an even number.\n",
            "3465 is odd and that's ok.\n",
            "4123 is odd and that's ok.\n",
            "454 is an even number.\n",
            "90 is an even number.\n"
          ]
        }
      ]
    },
    {
      "cell_type": "code",
      "source": [
        "listsum = 0\n",
        "\n",
        "for num in l:\n",
        "  listsum = listsum + num\n",
        "\n",
        "print(listsum)"
      ],
      "metadata": {
        "colab": {
          "base_uri": "https://localhost:8080/"
        },
        "id": "32B0rLe3FAec",
        "outputId": "752c7e2b-f8f6-4032-fd7f-859b9a5f087a"
      },
      "execution_count": 99,
      "outputs": [
        {
          "output_type": "stream",
          "name": "stdout",
          "text": [
            "107470\n"
          ]
        }
      ]
    },
    {
      "cell_type": "code",
      "source": [
        "dy = {'k1': 1, 'k2': 2, 'k3':3, 'k4':4}\n",
        "\n",
        "for item in dy:\n",
        "  print(item)"
      ],
      "metadata": {
        "id": "nLZJqcUvGiZQ",
        "colab": {
          "base_uri": "https://localhost:8080/"
        },
        "outputId": "8c8c06a1-6a5e-443b-f973-f33c11e2e581"
      },
      "execution_count": 101,
      "outputs": [
        {
          "output_type": "stream",
          "name": "stdout",
          "text": [
            "k1\n",
            "k2\n",
            "k3\n",
            "k4\n"
          ]
        }
      ]
    },
    {
      "cell_type": "code",
      "source": [
        "for k,v in dy.items():\n",
        "  print(k)\n",
        "  print(v)"
      ],
      "metadata": {
        "colab": {
          "base_uri": "https://localhost:8080/"
        },
        "id": "U1JwWjnnHIXR",
        "outputId": "42d3dbc9-d03e-4cdf-86b2-09513ad2d5f0"
      },
      "execution_count": 103,
      "outputs": [
        {
          "output_type": "stream",
          "name": "stdout",
          "text": [
            "k1\n",
            "1\n",
            "k2\n",
            "2\n",
            "k3\n",
            "3\n",
            "k4\n",
            "4\n"
          ]
        }
      ]
    },
    {
      "cell_type": "code",
      "source": [
        ""
      ],
      "metadata": {
        "id": "d6g-8xNMJn8a"
      },
      "execution_count": null,
      "outputs": []
    },
    {
      "cell_type": "markdown",
      "source": [
        "# While Loops"
      ],
      "metadata": {
        "id": "LJbmvb_C67Xm"
      }
    },
    {
      "cell_type": "code",
      "source": [
        "patient = {'Name': 'Jack', 'Last Name': 'Sparrow', 'MRN': '001234567', 'DOB': '22231845'}"
      ],
      "metadata": {
        "id": "fVW8P2rO7CbM"
      },
      "execution_count": 104,
      "outputs": []
    },
    {
      "cell_type": "code",
      "source": [
        "for x,y in patient.items(): #.items will cylce through key value pairs ex: name and Jack\n",
        "  print('\\n key: ' + x)\n",
        "  print('\\n value: ' + y)"
      ],
      "metadata": {
        "id": "EEC_qEcb7CNe",
        "colab": {
          "base_uri": "https://localhost:8080/"
        },
        "outputId": "5c2fdfa9-a8c0-415d-957c-ba59da36112a"
      },
      "execution_count": 105,
      "outputs": [
        {
          "output_type": "stream",
          "name": "stdout",
          "text": [
            "\n",
            " key: Name\n",
            "\n",
            " value: Jack\n",
            "\n",
            " key: Last Name\n",
            "\n",
            " value: Sparrow\n",
            "\n",
            " key: MRN\n",
            "\n",
            " value: 001234567\n",
            "\n",
            " key: DOB\n",
            "\n",
            " value: 22231845\n"
          ]
        }
      ]
    },
    {
      "cell_type": "code",
      "source": [
        "friends_ages = {'nick': '30', 'amanda': '34', 'john': '36', 'haley': '26'}\n",
        "fav_friends = ['nick', 'amanda']\n",
        "\n",
        "for name in friends_ages.keys():\n",
        "  print(name.title())\n",
        "\n",
        "  if name in fav_friends:\n",
        "    print(f'Hi {name.title()}, I see you\\'re {friends_ages[name]}')"
      ],
      "metadata": {
        "id": "PRHJk_9E7CHf",
        "colab": {
          "base_uri": "https://localhost:8080/"
        },
        "outputId": "03036459-77fa-4e01-9804-b48d19b947a9"
      },
      "execution_count": 112,
      "outputs": [
        {
          "output_type": "stream",
          "name": "stdout",
          "text": [
            "Nick\n",
            "Hi Nick, I see you're 30\n",
            "Amanda\n",
            "Hi Amanda, I see you're 34\n",
            "John\n",
            "Haley\n"
          ]
        }
      ]
    },
    {
      "cell_type": "code",
      "source": [
        ""
      ],
      "metadata": {
        "id": "2fGlkYs8Kxs2"
      },
      "execution_count": null,
      "outputs": []
    }
  ]
}