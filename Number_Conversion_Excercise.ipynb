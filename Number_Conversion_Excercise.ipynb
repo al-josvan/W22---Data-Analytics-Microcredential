{
  "nbformat": 4,
  "nbformat_minor": 0,
  "metadata": {
    "colab": {
      "name": "Number Conversion Excercise.ipynb",
      "provenance": [],
      "collapsed_sections": [],
      "authorship_tag": "ABX9TyOdPDUnV5Dc9KsCUCM1TESB",
      "include_colab_link": true
    },
    "kernelspec": {
      "name": "python3",
      "display_name": "Python 3"
    },
    "language_info": {
      "name": "python"
    }
  },
  "cells": [
    {
      "cell_type": "markdown",
      "metadata": {
        "id": "view-in-github",
        "colab_type": "text"
      },
      "source": [
        "<a href=\"https://colab.research.google.com/github/al-josvan/W22---Data-Analytics-Microcredential/blob/main/Number_Conversion_Excercise.ipynb\" target=\"_parent\"><img src=\"https://colab.research.google.com/assets/colab-badge.svg\" alt=\"Open In Colab\"/></a>"
      ]
    },
    {
      "cell_type": "code",
      "execution_count": null,
      "metadata": {
        "colab": {
          "base_uri": "https://localhost:8080/"
        },
        "id": "DWoCfWPdiQVk",
        "outputId": "d51f505f-f76c-447b-ae8b-3077cc64c83f"
      },
      "outputs": [
        {
          "name": "stdout",
          "output_type": "stream",
          "text": [
            "What is the value that you would like converted into binary, octal and hexedecimal? 100\n"
          ]
        }
      ],
      "source": [
        "number = int(input('What is the value that you would like converted into binary, octal and hexedecimal? '))"
      ]
    },
    {
      "cell_type": "code",
      "source": [
        "number"
      ],
      "metadata": {
        "colab": {
          "base_uri": "https://localhost:8080/"
        },
        "id": "YaUbNEc9izkj",
        "outputId": "b43f3b8f-24ed-4bcb-d10f-1b57d7691d89"
      },
      "execution_count": null,
      "outputs": [
        {
          "output_type": "execute_result",
          "data": {
            "text/plain": [
              "100"
            ]
          },
          "metadata": {},
          "execution_count": 2
        }
      ]
    },
    {
      "cell_type": "code",
      "source": [
        "print('Your inputted value of', number, 'is the follwoing:')\n",
        "print(bin(number), 'in binary.')\n",
        "print(oct(number), 'in octal.')\n",
        "print(hex(number), 'in hexadecimal.')"
      ],
      "metadata": {
        "colab": {
          "base_uri": "https://localhost:8080/"
        },
        "id": "kOO5lb3zi2Ct",
        "outputId": "9ea2c501-b7f1-40a2-8027-eedd1be16035"
      },
      "execution_count": null,
      "outputs": [
        {
          "output_type": "stream",
          "name": "stdout",
          "text": [
            "Your inputted value of 100 is the follwoing:\n",
            "0b1100100 in binary.\n",
            "0o144 in octal.\n",
            "0x64 in hexadecimal.\n"
          ]
        }
      ]
    },
    {
      "cell_type": "code",
      "source": [
        ""
      ],
      "metadata": {
        "id": "n0cQzW0hkB1t"
      },
      "execution_count": null,
      "outputs": []
    }
  ]
}